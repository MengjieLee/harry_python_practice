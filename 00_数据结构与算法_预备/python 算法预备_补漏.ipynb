{
 "cells": [
  {
   "cell_type": "markdown",
   "id": "01feed4a-10cf-4a99-9ac0-8e02321e751f",
   "metadata": {},
   "source": [
    "## 字符串格式化"
   ]
  },
  {
   "cell_type": "code",
   "execution_count": 62,
   "id": "1728de59-c6ab-4700-8044-4533f0a07f68",
   "metadata": {},
   "outputs": [],
   "source": [
    "# 赋值表达式，变量名=值\n",
    "\n",
    "\"\"\"\n",
    "class People:\n",
    "    def __init__(self):\n",
    "        pass\n",
    "harry = People() # 这里的值 是一个 类对象的实例化\n",
    "\"\"\"\n",
    "\n",
    "name = \"harry\"\n",
    "age = 11\n",
    "banji = \"6\"\n",
    "shen_gao = 1.8"
   ]
  },
  {
   "cell_type": "markdown",
   "id": "54dbac8f-4fba-407c-9c48-5b448e45714c",
   "metadata": {},
   "source": [
    "## format 格式化"
   ]
  },
  {
   "cell_type": "code",
   "execution_count": 7,
   "id": "77951ca7-0256-4878-a138-459592ec15bc",
   "metadata": {},
   "outputs": [
    {
     "name": "stdout",
     "output_type": "stream",
     "text": [
      "My name is harry, age is 11\n"
     ]
    }
   ],
   "source": [
    "# f 函数格式化字符串输出\n",
    "print(f\"My name is {name}, age is {age}\")"
   ]
  },
  {
   "cell_type": "code",
   "execution_count": 14,
   "id": "82095cf4-c628-49a5-8667-5552552e6d74",
   "metadata": {},
   "outputs": [
    {
     "name": "stdout",
     "output_type": "stream",
     "text": [
      "My name is harry, age is 11\n",
      "My name is harry, age is 11\n",
      "My name is harry, age is 11\n"
     ]
    }
   ],
   "source": [
    "# format 函数/方法 格式化字符串输出\n",
    "# \"\".format()\n",
    "\n",
    "print(\"My name is {}, age is {}\".format(name, age))\n",
    "print(\"My name is {0}, age is {1}\".format(name, age))\n",
    "print(\"My name is {mingzi}, age is {nianling}\".format(mingzi=name, nianling=age))"
   ]
  },
  {
   "cell_type": "code",
   "execution_count": 35,
   "id": "d03a32ce-cf30-4560-9788-924013e9e550",
   "metadata": {},
   "outputs": [
    {
     "name": "stdout",
     "output_type": "stream",
     "text": [
      "欢迎 lmj 同学加入尚文班级 0\n",
      "欢迎 harry 同学加入尚文班级 1\n",
      "欢迎 susan 同学加入尚文班级 2\n",
      "欢迎 lydia 同学加入尚文班级 3\n"
     ]
    }
   ],
   "source": [
    "\"\"\"\n",
    "欢迎 lmj 同学加入尚文\n",
    "...\n",
    "欢迎 lydia 同学加入尚文\n",
    "\"\"\"\n",
    "\n",
    "name_list = [\"lmj\", \"harry\", \"susan\", \"lydia\"]\n",
    "\n",
    "# 误将 列表 和 字典 混淆\n",
    "# name_dict = {\n",
    "#     \"name\": \"lmj\",\n",
    "#     \"age\": 11\n",
    "# }\n",
    "\n",
    "# 循环\n",
    "# while\n",
    "# for\n",
    "\n",
    "# f 函数\n",
    "# for name in name_list:\n",
    "#     print(f\"欢迎 {name} 同学加入尚文\")\n",
    "\"\"\"\n",
    "欢迎 lmj 同学加入尚文\n",
    "欢迎 harry 同学加入尚文\n",
    "欢迎 susan 同学加入尚文\n",
    "欢迎 lydia 同学加入尚文\n",
    "\"\"\"\n",
    "\n",
    "# format 函数\n",
    "for index, name in enumerate(name_list):\n",
    "    print(\"欢迎 {mingzi} 同学加入尚文班级 {banjihao}\".format(mingzi=name, banjihao=index))"
   ]
  },
  {
   "cell_type": "markdown",
   "id": "b60f6dd5-4ef7-46c0-ac75-b6a1dc88f44c",
   "metadata": {
    "jp-MarkdownHeadingCollapsed": true
   },
   "source": [
    "## + 符号 拼接"
   ]
  },
  {
   "cell_type": "code",
   "execution_count": 56,
   "id": "e8a7b9d1-bac2-4921-909f-3f182d3079c8",
   "metadata": {},
   "outputs": [
    {
     "name": "stdout",
     "output_type": "stream",
     "text": [
      "欢迎 harry 同学加入尚文班级 6\n",
      "欢迎 harry 同学加入尚文班级 6欢迎 harry 同学加入尚文班级 6欢迎 harry 同学加入尚文班级 6欢迎 harry 同学加入尚文班级 6欢迎 harry 同学加入尚文班级 6欢迎 harry 同学加入尚文班级 6欢迎 harry 同学加入尚文班级 6欢迎 harry 同学加入尚文班级 6欢迎 harry 同学加入尚文班级 6\n"
     ]
    }
   ],
   "source": [
    "# 欢迎 harry 同学加入尚文班级 6\n",
    "output = \"欢迎 \" + name + \" 同学加入尚文班级 \" + banji\n",
    "\n",
    "print(output)\n",
    "\n",
    "# 字符串 还可进行 乘法 运算\n",
    "print(output * 9)\n"
   ]
  },
  {
   "cell_type": "markdown",
   "id": "d0029cb9-2487-42f8-bb2f-eb16ba444926",
   "metadata": {},
   "source": [
    "## % 符号 拼接"
   ]
  },
  {
   "cell_type": "code",
   "execution_count": 69,
   "id": "77e76799-920a-454b-9aba-9dbeb9864a19",
   "metadata": {},
   "outputs": [
    {
     "name": "stdout",
     "output_type": "stream",
     "text": [
      "harry 今年 11 岁, 身高 1.800000 米\n"
     ]
    }
   ],
   "source": [
    "# harry 今年 11 岁, 身高 1.800000 米\n",
    "# %d 数字\n",
    "# %s 字符\n",
    "# %f 小数\n",
    "## % 要求很严苛，需要对输入的值的类型严加管控\n",
    "\n",
    "output = \"%s 今年 %d 岁, 身高 %f 米\"%(name, age, shen_gao)\n",
    "print(output)"
   ]
  },
  {
   "cell_type": "markdown",
   "id": "b64d7a41-15f0-4aee-97b4-2578d3444e19",
   "metadata": {},
   "source": [
    "# 列表"
   ]
  },
  {
   "cell_type": "markdown",
   "id": "1a539fa4-d835-4e0d-897b-c16c856a4a5e",
   "metadata": {},
   "source": [
    "## 列表 初始化 倒序"
   ]
  },
  {
   "cell_type": "code",
   "execution_count": 152,
   "id": "ee0f0e61-5587-48cd-8ff6-b73f7f17f7da",
   "metadata": {},
   "outputs": [],
   "source": [
    "# 初始化\n",
    "# student_list = []\n",
    "# student_list = list()\n",
    "student_list = [\"aaaaaaaa\", \"zhangsan\", \"aaaaaaaa\", \"harry\", \"aaaaaaaa\", \"lmj\", \"zhangsan\"]\n",
    "\n",
    "# range 初始化实例，区分 list() 与 [] 的差异\n",
    "# harry_chenji = list(range(1, 10, 2))        # [1, 3, 5, 7, 9]\n",
    "# harry_chenji = [range(1, 10, 2)]            # [range(1, 10, 2)]\n",
    "\n",
    "\n",
    "# 倒序\n",
    "# n = 10\n",
    "# harry_chenji = list(range(1, n, 2))\n",
    "# print(harry_chenji)                          # [1, 3, 5, 7, 9]\n",
    "# harry_chenji_daoxu = list(range(n-1, 0, -2)) \n",
    "# print(harry_chenji_daoxu)                    # [9, 7, 5, 3, 1]\n",
    "\n"
   ]
  },
  {
   "cell_type": "markdown",
   "id": "6a8c428d-4d11-422c-a653-1beb451b042e",
   "metadata": {
    "jp-MarkdownHeadingCollapsed": true
   },
   "source": [
    "## 列表中元素 访问 更新 删除"
   ]
  },
  {
   "cell_type": "code",
   "execution_count": 94,
   "id": "859ee500-3b96-4813-b480-8e2e99d4eab2",
   "metadata": {},
   "outputs": [
    {
     "name": "stdout",
     "output_type": "stream",
     "text": [
      "['lmj', 'lydia', 'yangyang', 'yangyang_ta_ge']\n",
      "['lydia', 'lmj', 'yangyang', 'yangyang_ta_ge']\n"
     ]
    }
   ],
   "source": [
    "# 列表是通过 list_name[x] 形式获取 list_name 列表中 x 下标位置的元素\n",
    "\n",
    "friends = [\"lmj\", \"lydia\", \"yangyang\", \"yangyang_ta_ge\"]\n",
    "\n",
    "# 取\n",
    "# print(\"harry 心中的头一号朋友: {}\".format(friends[1]))                # lydia\n",
    "\n",
    "# # 更新\n",
    "# friends[1] = \"xiaoming\"\n",
    "# print(\"过了多少年之后，harry 心中的头一号朋友: {}\".format(friends[1]))   # xiaoming\n",
    "# print(\"此时, harry 心中的所有朋友列表为: {}\".format(friends))          # ['lmj', 'xiaoming', 'yangyang', 'yangyang_ta_ge']\n",
    "\n",
    "# # 删\n",
    "# del friends[1]\n",
    "# print(\"此时, harry 心中的所有朋友列表为: {}\".format(friends))          # ['lmj', 'yangyang', 'yangyang_ta_ge']\n",
    "\n",
    "# 更新+\n",
    "# a = 11\n",
    "# b = 22\n",
    "# print(a, b)        # 11 22\n",
    "\n",
    "# a, b = b, a\n",
    "# print(\"更新后\")\n",
    "# print(a, b)        # 22 11\n",
    "\n",
    "print(friends)       # ['lmj', 'lydia', 'yangyang', 'yangyang_ta_ge']\n",
    "friends[1], friends[0] = friends[0], friends[1]\n",
    "print(friends)       # ['lydia', 'lmj', 'yangyang', 'yangyang_ta_ge']\n"
   ]
  },
  {
   "cell_type": "markdown",
   "id": "ba74decb-c666-4a63-b146-26b555ddffe7",
   "metadata": {},
   "source": [
    "## 列表函数 操作"
   ]
  },
  {
   "cell_type": "code",
   "execution_count": 154,
   "id": "dce11e93-95bc-4dbf-995d-12a94a1e9bd6",
   "metadata": {},
   "outputs": [
    {
     "name": "stdout",
     "output_type": "stream",
     "text": [
      "插入新元素后，列表内容: ['aaaaaaaa', 'daming', 'zhangsan', 'aaaaaaaa', 'harry', 'aaaaaaaa', 'lmj', 'zhangsan', 'daming']\n"
     ]
    }
   ],
   "source": [
    "new_student_1 = \"lydia\"\n",
    "new_student_2 = \"yangyang\"\n",
    "\n",
    "# 末尾追加 元素\n",
    "# student_list.append(new_student_1)\n",
    "# print(student_list)                    # ['zhangsan', 'harry', 'lmj', 'zhangsan']\n",
    "\n",
    "# 统计指定元素个数\n",
    "# student_name = \"lydia\"\n",
    "# count = student_list.count(student_name)\n",
    "# print(\"{} 出现的次数: {}\".format(student_name, count))\n",
    "# lenth = len(student_list)\n",
    "# print(\"统计 student_list 列表长度：{}\".format(lenth))\n",
    "\n",
    "# 找出指定元素，若匹配多个，则选中第一个（默认）索引返回\n",
    "# student_name = \"zhangsan\"\n",
    "# student_index = student_list.index(student_name)\n",
    "# print(\"{} 的 索引是 {} \".format(student_name, student_index))\n",
    "\n",
    "# 移除指定元素，若匹配多个，则选中第一个（默认）索引删除       # ['zhangsan', 'harry', 'lmj', 'zhangsan']\n",
    "# remove_student_name = \"zhangsan\"\n",
    "# student_list.remove(student_name)\n",
    "# print(\"移除后，列表内容: {}\".format(student_list))    # 移除后，列表内容: ['harry', 'lmj', 'zhangsan']\n",
    "\n",
    "# 翻转列表                                             # [\"zhangsan\", \"harry\", \"lmj\", \"zhangsan\"]\n",
    "# student_list.reverse()\n",
    "# print(\"翻转后，列表内容: {}\".format(student_list))    # 移除后，列表内容: ['zhangsan', 'lmj', 'harry', 'zhangsan']\n",
    "\n",
    "# 排序列表，默认升序（小-->大）, 特别注意：字符串是按 ASCII 表顺序\n",
    "# student_list.sort()\n",
    "# print(\"排序后，列表内容: {}\".format(chenji_list))      # 排序后，列表内容: ['harry', 'lmj', 'zhangsan', 'zhangsan']\n",
    "\n",
    "# chenji_list = [33, 22, 100, 55]\n",
    "# chenji_list.sort()\n",
    "# print(\"排序后，列表内容: {}\".format(chenji_list))     # 排序后，列表内容: [22, 33, 55, 100]\n",
    "\n",
    "# chenji_list = [\"33\", \"22\", \"100\", \"55\"]\n",
    "# chenji_list.sort()\n",
    "# print(\"排序后，列表内容: {}\".format(chenji_list))     # 排序后，列表内容: ['100', '22', '33', '55']\n",
    "\n",
    "# 将元素插入指定位置，若指定位置大于列表长度，则放末尾        # [\"aaaaaaaa\", \"zhangsan\", \"aaaaaaaa\", \"harry\", \"aaaaaaaa\", \"lmj\", \"zhangsan\"]\n",
    "new_student_index = 1\n",
    "new_student_name = \"daming\"\n",
    "student_list.insert(new_student_index, new_student_name)\n",
    "print(\"插入新元素后，列表内容: {}\".format(student_list)) # ['aaaaaaaa', 'daming', 'zhangsan', 'aaaaaaaa', 'harry', 'aaaaaaaa', 'lmj', 'zhangsan']\n"
   ]
  }
 ],
 "metadata": {
  "kernelspec": {
   "display_name": "Python 3 (ipykernel)",
   "language": "python",
   "name": "python3"
  },
  "language_info": {
   "codemirror_mode": {
    "name": "ipython",
    "version": 3
   },
   "file_extension": ".py",
   "mimetype": "text/x-python",
   "name": "python",
   "nbconvert_exporter": "python",
   "pygments_lexer": "ipython3",
   "version": "3.12.1"
  }
 },
 "nbformat": 4,
 "nbformat_minor": 5
}
