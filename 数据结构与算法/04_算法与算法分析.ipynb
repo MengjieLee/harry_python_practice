{
 "cells": [
  {
   "cell_type": "markdown",
   "id": "9832d221-0033-4a7c-b49c-b255ac0b931e",
   "metadata": {},
   "source": [
    "# 算法与算法分析 3"
   ]
  },
  {
   "cell_type": "code",
   "execution_count": 6,
   "id": "122bf42c-40fc-44f0-a88f-eb43ddfadc8d",
   "metadata": {},
   "outputs": [
    {
     "name": "stdin",
     "output_type": "stream",
     "text": [
      "假使此场景下输入的 n 的值为正无穷 >>>: 1000000\n"
     ]
    }
   ],
   "source": [
    "n = int(input(\"假使此场景下输入的 n 的值为正无穷 >>>:\"))"
   ]
  },
  {
   "cell_type": "markdown",
   "id": "275d4e3a-5981-4bd0-a149-78f2c382d4a1",
   "metadata": {
    "jp-MarkdownHeadingCollapsed": true
   },
   "source": [
    "## 指数级"
   ]
  },
  {
   "cell_type": "code",
   "execution_count": null,
   "id": "e2e686f3-66f9-48c3-b74f-85f439e2eca4",
   "metadata": {},
   "outputs": [],
   "source": [
    "for i in range(n):\n",
    "    for j in range(i):\n",
    "        for k in range(j):\n",
    "            x += 1\n",
    "\n",
    "# 根据多项式推算出语句频度\n",
    "# T(n) = O(n^3)"
   ]
  },
  {
   "cell_type": "markdown",
   "id": "dd3bbda9-f34f-404a-a8ce-70fe9aa399a6",
   "metadata": {},
   "source": [
    "## 对数级"
   ]
  },
  {
   "cell_type": "code",
   "execution_count": null,
   "id": "0d05b9b8-8156-4a9b-9c99-6590c6cd68a1",
   "metadata": {},
   "outputs": [],
   "source": [
    "i = 1\n",
    "while i <= n:\n",
    "    i *= 2\n",
    "\n",
    "\"\"\"\n",
    "循环执行 1 次： i = 1 * 2 = 2\n",
    "循环执行 2 次： i = 2 * 2 = 2^2\n",
    "循环执行 3 次： i = 2^2 * 2 = 2^3\n",
    "...\n",
    "循环执行 n 次： i = 2^n\n",
    "\"\"\"\n",
    "    \n",
    "# T(n) = O(lgn)"
   ]
  },
  {
   "cell_type": "code",
   "execution_count": null,
   "id": "2cc680ae-e70b-43dd-993f-76b13ba0cd7c",
   "metadata": {},
   "outputs": [],
   "source": [
    "## "
   ]
  }
 ],
 "metadata": {
  "kernelspec": {
   "display_name": "Python 3 (ipykernel)",
   "language": "python",
   "name": "python3"
  },
  "language_info": {
   "codemirror_mode": {
    "name": "ipython",
    "version": 3
   },
   "file_extension": ".py",
   "mimetype": "text/x-python",
   "name": "python",
   "nbconvert_exporter": "python",
   "pygments_lexer": "ipython3",
   "version": "3.11.4"
  }
 },
 "nbformat": 4,
 "nbformat_minor": 5
}
