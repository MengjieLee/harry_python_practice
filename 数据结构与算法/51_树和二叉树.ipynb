{
 "cells": [
  {
   "cell_type": "markdown",
   "id": "f0b818e0-2e74-4a17-9219-7266a7e65b1d",
   "metadata": {},
   "source": [
    "# 树的定义\n",
    "TODO\n"
   ]
  },
  {
   "cell_type": "markdown",
   "id": "6036f85b-d062-4dfd-9fcf-21d65ca89b99",
   "metadata": {},
   "source": [
    "# 二叉树\n",
    "- 定义：各节点最多只有 2 个”叉“（即子树）的树\n",
    "- 为何要重点研究二叉树？\n",
    "  - 二叉树，结构最简单，规律性最强\n",
    "  - 所有树都能转换为唯一对应的二叉树，不失一般性\n",
    "  - 普通树若不转换二叉树，则运算很难实现\n",
    "  - 解决树的存储结构及运算的复杂性\n"
   ]
  }
 ],
 "metadata": {
  "kernelspec": {
   "display_name": "Python 3 (ipykernel)",
   "language": "python",
   "name": "python3"
  },
  "language_info": {
   "codemirror_mode": {
    "name": "ipython",
    "version": 3
   },
   "file_extension": ".py",
   "mimetype": "text/x-python",
   "name": "python",
   "nbconvert_exporter": "python",
   "pygments_lexer": "ipython3",
   "version": "3.11.4"
  }
 },
 "nbformat": 4,
 "nbformat_minor": 5
}
