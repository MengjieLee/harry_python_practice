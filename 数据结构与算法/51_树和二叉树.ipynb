{
 "cells": [
  {
   "cell_type": "markdown",
   "id": "f0b818e0-2e74-4a17-9219-7266a7e65b1d",
   "metadata": {},
   "source": [
    "# 树的定义\n",
    "TODO\n"
   ]
  },
  {
   "cell_type": "markdown",
   "id": "6036f85b-d062-4dfd-9fcf-21d65ca89b99",
   "metadata": {},
   "source": [
    "# 二叉树\n",
    "- 定义？\n",
    "  - n >= 0 个结点的有限集\n",
    "  - 或者 n = 0 则为空集\n",
    "  - 或者由一个根结点及两颗不相交的分别称作为这个根的左子树和右子树组成\n",
    "- 为何要重点研究二叉树？\n",
    "  - 二叉树，结构最简单，规律性最强\n",
    "  - 所有树都能转换为唯一对应的二叉树，不失一般性\n",
    "  - 普通树若不转换二叉树，则运算很难实现\n",
    "  - 解决树的存储结构及运算的复杂性\n",
    "- 特点？\n",
    "  - 每个结点最多 2 个孩子（或度 <= 2）\n",
    "  - 子树有左右之分，其次序不能颠倒\n",
    "  - 二叉树可以是空集合，根可以有空的左子树或空的右子树\n"
   ]
  }
 ],
 "metadata": {
  "kernelspec": {
   "display_name": "Python 3 (ipykernel)",
   "language": "python",
   "name": "python3"
  },
  "language_info": {
   "codemirror_mode": {
    "name": "ipython",
    "version": 3
   },
   "file_extension": ".py",
   "mimetype": "text/x-python",
   "name": "python",
   "nbconvert_exporter": "python",
   "pygments_lexer": "ipython3",
   "version": "3.11.4"
  }
 },
 "nbformat": 4,
 "nbformat_minor": 5
}
