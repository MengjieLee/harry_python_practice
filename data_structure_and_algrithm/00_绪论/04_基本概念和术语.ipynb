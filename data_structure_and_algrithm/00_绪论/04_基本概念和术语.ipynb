{
 "cells": [
  {
   "cell_type": "markdown",
   "id": "50cbb219-4d1a-4ac6-a951-ebfd56316707",
   "metadata": {},
   "source": [
    "# 数据、数据元素、数据项、数据对象"
   ]
  },
  {
   "cell_type": "markdown",
   "id": "7135537b-08be-4bab-b863-3c621eb9a90c",
   "metadata": {},
   "source": [
    "## 数据"
   ]
  }
 ],
 "metadata": {
  "kernelspec": {
   "display_name": "Python 3 (ipykernel)",
   "language": "python",
   "name": "python3"
  },
  "language_info": {
   "codemirror_mode": {
    "name": "ipython",
    "version": 3
   },
   "file_extension": ".py",
   "mimetype": "text/x-python",
   "name": "python",
   "nbconvert_exporter": "python",
   "pygments_lexer": "ipython3",
   "version": "3.11.4"
  }
 },
 "nbformat": 4,
 "nbformat_minor": 5
}
