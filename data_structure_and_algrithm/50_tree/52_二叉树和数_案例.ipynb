{
 "cells": [
  {
   "cell_type": "markdown",
   "id": "f58df7b5-6f90-480a-892a-83401752d08a",
   "metadata": {},
   "source": [
    "# 案例引入一： 5.2.1数据压缩\n",
    "- 将数据文件转换成由 0、1 组成的二进制串，称之为编码。\n",
    "- 3 种方案示意图 TODO\n",
    "- 引出哈弗曼树，获得不等长编码方案"
   ]
  },
  {
   "cell_type": "markdown",
   "id": "11b32098-686a-4ea2-9b83-a02d3297ee84",
   "metadata": {},
   "source": [
    "# 案例引入二：5.2.2 利用二叉树求解表达式的值\n",
    "以二叉树声明表达式的递归定义如下：\n",
    "- 若表达式为数或变量，则相应二叉树中仅有一个根结点，其数据域存放该表达式信息；\n",
    "- 若表达式为“<第一操作数> <运算符> <第二操作数>”的形式，则相应的二叉树中以左子树表示第一操作数，右子树表示第二操作符，根节点的数据域存放运算符；\n",
    "- 特别的，如果是一元运算符，则左子树为空，其中，操作数本身又为表达式。\n",
    "- 示意图 TODO"
   ]
  }
 ],
 "metadata": {
  "kernelspec": {
   "display_name": "Python 3 (ipykernel)",
   "language": "python",
   "name": "python3"
  },
  "language_info": {
   "codemirror_mode": {
    "name": "ipython",
    "version": 3
   },
   "file_extension": ".py",
   "mimetype": "text/x-python",
   "name": "python",
   "nbconvert_exporter": "python",
   "pygments_lexer": "ipython3",
   "version": "3.11.4"
  }
 },
 "nbformat": 4,
 "nbformat_minor": 5
}
