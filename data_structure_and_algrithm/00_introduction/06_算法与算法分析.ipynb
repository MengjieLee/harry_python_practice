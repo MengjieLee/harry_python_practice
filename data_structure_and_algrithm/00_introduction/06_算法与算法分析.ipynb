{
 "cells": [
  {
   "cell_type": "markdown",
   "id": "9832d221-0033-4a7c-b49c-b255ac0b931e",
   "metadata": {},
   "source": [
    "# 算法与算法分析 3"
   ]
  },
  {
   "cell_type": "code",
   "execution_count": 6,
   "id": "122bf42c-40fc-44f0-a88f-eb43ddfadc8d",
   "metadata": {},
   "outputs": [
    {
     "name": "stdin",
     "output_type": "stream",
     "text": [
      "假使此场景下输入的 n 的值为正无穷 >>>: 1000000\n"
     ]
    }
   ],
   "source": [
    "n = int(input(\"假使此场景下输入的 n 的值为正无穷 >>>:\"))"
   ]
  },
  {
   "cell_type": "markdown",
   "id": "275d4e3a-5981-4bd0-a149-78f2c382d4a1",
   "metadata": {
    "jp-MarkdownHeadingCollapsed": true
   },
   "source": [
    "## 指数级"
   ]
  },
  {
   "cell_type": "code",
   "execution_count": null,
   "id": "e2e686f3-66f9-48c3-b74f-85f439e2eca4",
   "metadata": {},
   "outputs": [],
   "source": [
    "for i in range(n):\n",
    "    for j in range(i):\n",
    "        for k in range(j):\n",
    "            x += 1\n",
    "\n",
    "# 根据多项式推算出语句频度\n",
    "# T(n) = O(n^3)"
   ]
  },
  {
   "cell_type": "markdown",
   "id": "dd3bbda9-f34f-404a-a8ce-70fe9aa399a6",
   "metadata": {},
   "source": [
    "## 对数级"
   ]
  },
  {
   "cell_type": "code",
   "execution_count": null,
   "id": "0d05b9b8-8156-4a9b-9c99-6590c6cd68a1",
   "metadata": {},
   "outputs": [],
   "source": [
    "i = 1\n",
    "while i <= n:\n",
    "    i *= 2\n",
    "\n",
    "\"\"\"\n",
    "循环执行 1 次： i = 1 * 2 = 2\n",
    "循环执行 2 次： i = 2 * 2 = 2^2\n",
    "循环执行 3 次： i = 2^2 * 2 = 2^3\n",
    "...\n",
    "循环执行 n 次： i = 2^n\n",
    "\"\"\"\n",
    "    \n",
    "# T(n) = O(lgn)"
   ]
  },
  {
   "cell_type": "markdown",
   "id": "197dbf74-6da9-4f88-aa61-3f304fa84060",
   "metadata": {},
   "source": [
    "## 算法时间复杂度计算 1\n",
    "有的情况下，算法中基本操作重复执行的次数还随问题的输入数据集不同而不同\n",
    "- ✅最坏时间复杂度：指在最坏情况下，算法的执行时间\n",
    "- ✅平均时间复杂度：指在所有可能输入示例在等概率出现的情况下，算法期望执行时间\n",
    "- 最好时间复杂度：指在最好情况（如最优输入数据集），算法的执行时间"
   ]
  },
  {
   "cell_type": "code",
   "execution_count": null,
   "id": "ee92b0ad-2b1f-4c03-a59b-018af45b9bc0",
   "metadata": {},
   "outputs": [],
   "source": [
    "def func()\n",
    "    for i in range(n):\n",
    "        if a == num:\n",
    "            return i  # 找到目标 num 则返回第 i 个元素，即共执行了 i 次\n",
    "    return 0\n",
    "\n",
    "func()\n",
    "\n",
    "\"\"\"\n",
    "- 最好情况： 1 次\n",
    "- 最坏情况： n\n",
    "- 平均时间复杂度为： O(n)\n",
    "\"\"\""
   ]
  },
  {
   "cell_type": "markdown",
   "id": "6ad6eb85-6f51-464b-bb13-7eff6a4e2ad6",
   "metadata": {},
   "source": [
    "## 算法时间复杂度计算 2\n",
    "- 对于复杂的算法，可以将它分成几个容易估算的部分，然后利用加法、乘法等基本运算法则去计算算法的时间复杂度"
   ]
  },
  {
   "cell_type": "code",
   "execution_count": null,
   "id": "7c798e55-c1de-4fbd-8442-28a5f014a35c",
   "metadata": {},
   "outputs": [],
   "source": [
    "# 加法\n",
    "T(n) = T1(n) + T2(n) = O(f(n)) + O(g(n)) = O(max(f(n), g(n)))\n",
    "\n",
    "# 乘法\n",
    "T(n) = T1(n) * T2(n) = O(f(n)) * O(g(n)) = O(f(n) * g(n))"
   ]
  },
  {
   "cell_type": "markdown",
   "id": "9514201c-eaf6-42c2-8600-b08dd5fad0e9",
   "metadata": {},
   "source": [
    "# 算法时间效率的比较\n",
    "当 n 取得值很大时，指数时间算法和多项式时间算法在所需时间上非常悬殊：\n",
    "\n",
    "复杂度低 -> 复杂度高\n",
    "常数阶 < 对数阶 < 线性阶 < 线性对数阶 < 平方阶 < 立方阶 < ... < k 方阶 < 指数阶\n",
    "O(1)    O(lgn)  O(n)      O(nlgn)   O(n^2)  O(n^3)  ...  O(n^k)    O(2^n)\n",
    "\n",
    "- 示例图 TODO\n"
   ]
  },
  {
   "cell_type": "markdown",
   "id": "0a996cf2-70ba-413c-b1f3-766ca295d7d8",
   "metadata": {},
   "source": [
    "# 渐进空间复杂度\n",
    "- 空间复杂度，即算法所需存储空间的度量\n",
    "  - 记作  S(n) = O(f(n))\n",
    "  - 其中 n 为问题的规模或大小\n",
    "\n",
    "- 算法要占据的空间\n",
    "  - 算法本身要占据的空间，输入/输出，指令，常数，变量等\n",
    "  - 算法要使用的辅助空间"
   ]
  },
  {
   "cell_type": "markdown",
   "id": "0f9c92e8-6aed-48bb-a08b-818edd4be1f2",
   "metadata": {},
   "source": [
    "## 算法空间复杂度分析，示例\n",
    "将一对数组 a 中的 n 个数逆序存放到原数组中\n",
    "- TODO"
   ]
  }
 ],
 "metadata": {
  "kernelspec": {
   "display_name": "Python 3 (ipykernel)",
   "language": "python",
   "name": "python3"
  },
  "language_info": {
   "codemirror_mode": {
    "name": "ipython",
    "version": 3
   },
   "file_extension": ".py",
   "mimetype": "text/x-python",
   "name": "python",
   "nbconvert_exporter": "python",
   "pygments_lexer": "ipython3",
   "version": "3.11.4"
  }
 },
 "nbformat": 4,
 "nbformat_minor": 5
}
