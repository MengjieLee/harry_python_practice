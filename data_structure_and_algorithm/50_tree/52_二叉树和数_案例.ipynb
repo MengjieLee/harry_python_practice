{
 "cells": [
  {
   "cell_type": "markdown",
   "id": "f58df7b5-6f90-480a-892a-83401752d08a",
   "metadata": {},
   "source": [
    "# 案例引入一： 5.2.1数据压缩\n",
    "- 将数据文件转换成由 0、1 组成的二进制串，称之为编码。\n",
    "- 3 种方案示意图 TODO\n",
    "- 引出哈弗曼树，获得不等长编码方案"
   ]
  },
  {
   "cell_type": "markdown",
   "id": "11b32098-686a-4ea2-9b83-a02d3297ee84",
   "metadata": {},
   "source": [
    "# 案例引入二：5.2.2 利用二叉树求解表达式的值\n",
    "以二叉树声明表达式的递归定义如下：\n",
    "- 若表达式为数或变量，则相应二叉树中仅有一个根结点，其数据域存放该表达式信息；\n",
    "- 若表达式为“<第一操作数> <运算符> <第二操作数>”的形式，则相应的二叉树中以左子树表示第一操作数，右子树表示第二操作符，根节点的数据域存放运算符；\n",
    "- 特别的，如果是一元运算符，则左子树为空，其中，操作数本身又为表达式。\n",
    "- 示意图 TODO"
   ]
  },
  {
   "cell_type": "markdown",
   "id": "382a2a40-85e0-4483-967a-a2573c708ed7",
   "metadata": {},
   "source": [
    "# 案例引入三：5.3.3 堆\n",
    "堆（Heap）是一种数据结构，通常指的是二叉堆（Binary Heap），是一种完全二叉树，可以是最大堆（Max Heap）或最小堆（Min Heap）"
   ]
  },
  {
   "cell_type": "markdown",
   "id": "54731c7a-60e5-4912-8f2f-d482749ee687",
   "metadata": {},
   "source": [
    "## 最大堆（Max Heap）\n",
    "最大堆是一种重要的数据结构，具有许多实际应用场景，特别适用于需要快速查找最大元素的情况。最大堆是一种二叉堆数据结构，它满足以下性质：\n",
    "- 在一个最大堆中，对于任意节点 i，父节点的值都大于或等于其子节点的值。\n",
    "- 最大堆通常以完全二叉树的形式实现，即除了最后一层外，其他层都是完全填充的，且最后一层从左到右填充。\n",
    "- 最大堆中最大的元素总是位于根节点（堆顶）。\n",
    "- 主要操作：\n",
    "  - 插入：将新元素插入到堆的末尾，然后通过“上浮”操作将其移动到正确的位置以维持最大堆性质。\n",
    "  - 删除最大元素：通常是删除并返回堆顶（最大元素），然后将堆中最后一个元素移动到堆顶，再通过“下沉”操作将其移动到正确的位置。\n",
    "  - 建堆：将一个无序数组转换为最大堆的过程。\n",
    "- 应用：\n",
    "  - 优先队列：最大堆常用于实现优先队列，其中具有最大优先级的元素始终位于队列的前面。\n",
    "  - 堆排序：堆排序是一种利用最大堆进行排序的算法，具有稳定的 O(n log n) 时间复杂度。\n",
    "  - 中位数查找：在动态数据流中，最大堆可以用于高效查找中位数。\n"
   ]
  },
  {
   "cell_type": "code",
   "execution_count": 10,
   "id": "4ef59048-6c65-4473-a5da-992f44ec86ef",
   "metadata": {},
   "outputs": [
    {
     "name": "stdout",
     "output_type": "stream",
     "text": [
      "[-80, -10, 50, 0, 110] -80 110\n",
      "-80\n",
      "[-10, 0, 50, 110] -10 110\n"
     ]
    }
   ],
   "source": [
    "from heapq import heappop, heappush  # TIP: 弹出堆顶元素，插入堆元素\n",
    "\n",
    "fuel_heap = []\n",
    "heappush(fuel_heap, 0)\n",
    "heappush(fuel_heap, -10)\n",
    "heappush(fuel_heap, 50)\n",
    "heappush(fuel_heap, -80)\n",
    "heappush(fuel_heap, 110)\n",
    "\n",
    "print(fuel_heap, fuel_heap[0], fuel_heap[-1])\n",
    "\n",
    "print(heappop(fuel_heap))\n",
    "\n",
    "print(fuel_heap, fuel_heap[0], fuel_heap[-1])\n"
   ]
  }
 ],
 "metadata": {
  "kernelspec": {
   "display_name": "Python 3 (ipykernel)",
   "language": "python",
   "name": "python3"
  },
  "language_info": {
   "codemirror_mode": {
    "name": "ipython",
    "version": 3
   },
   "file_extension": ".py",
   "mimetype": "text/x-python",
   "name": "python",
   "nbconvert_exporter": "python",
   "pygments_lexer": "ipython3",
   "version": "3.11.4"
  }
 },
 "nbformat": 4,
 "nbformat_minor": 5
}
