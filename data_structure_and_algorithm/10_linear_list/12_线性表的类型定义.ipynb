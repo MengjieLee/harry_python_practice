{
 "cells": [
  {
   "cell_type": "markdown",
   "id": "fc8d4134",
   "metadata": {},
   "source": [
    "# 线性表的类型定义"
   ]
  },
  {
   "cell_type": "markdown",
   "id": "f8d1fa3b",
   "metadata": {},
   "source": [
    "- 抽象数据类型线性表的定义如下:"
   ]
  },
  {
   "cell_type": "code",
   "execution_count": null,
   "id": "5c939002",
   "metadata": {},
   "outputs": [],
   "source": [
    "\"\"\"\n",
    "ADT List{\n",
    "  数据对象: <数据对象的定义>\n",
    "    D = {ai | ai 属于数据元素集合 ElementSet (i=1,2,..,n, n >=0)}\n",
    "  数据关系: <数据关系的定义>\n",
    "    R = { <ai-1, ai> | ai-1, ai 属于 D,(i=2,3,...,n) }\n",
    "  基本操作: <基本操作的定义>\n",
    "    InitList(&L);\n",
    "    ListInsert(&L,i,e);\n",
    "    DestroyList(&L);\n",
    "    ListDelete(&L,i&e);\n",
    "    ...\n",
    "} ADT List\n",
    "\"\"\""
   ]
  },
  {
   "cell_type": "markdown",
   "id": "aea455b9",
   "metadata": {},
   "source": [
    "# 基本操作"
   ]
  },
  {
   "cell_type": "markdown",
   "id": "4aea4802",
   "metadata": {},
   "source": [
    "## InitList(&L)\n",
    "- 操作结果：构造一个空的线性表 L"
   ]
  },
  {
   "cell_type": "markdown",
   "id": "78416f2f",
   "metadata": {},
   "source": [
    "## DestroyList(&L)\n",
    "- 初始条件：线性表 L 已经存在\n",
    "- 操作结果：销毁线性表 L"
   ]
  },
  {
   "cell_type": "markdown",
   "id": "a387df54",
   "metadata": {},
   "source": [
    "## ClearList(&L)\n",
    "- 初始条件：线性表 L 已经存在\n",
    "- 操作结果：将线性表 L 重置为空表"
   ]
  },
  {
   "cell_type": "markdown",
   "id": "5affac0f",
   "metadata": {},
   "source": [
    "## TODO"
   ]
  }
 ],
 "metadata": {
  "kernelspec": {
   "display_name": "Python 3 (ipykernel)",
   "language": "python",
   "name": "python3"
  },
  "language_info": {
   "codemirror_mode": {
    "name": "ipython",
    "version": 3
   },
   "file_extension": ".py",
   "mimetype": "text/x-python",
   "name": "python",
   "nbconvert_exporter": "python",
   "pygments_lexer": "ipython3",
   "version": "3.11.4"
  }
 },
 "nbformat": 4,
 "nbformat_minor": 5
}
