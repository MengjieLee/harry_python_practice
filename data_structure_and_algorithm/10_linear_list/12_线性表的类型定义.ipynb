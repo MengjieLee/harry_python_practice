{
 "cells": [
  {
   "cell_type": "markdown",
   "id": "fc8d4134",
   "metadata": {},
   "source": [
    "# 线性表的类型定义"
   ]
  },
  {
   "cell_type": "markdown",
   "id": "f8d1fa3b",
   "metadata": {},
   "source": [
    "- 抽象数据类型线性表的定义如下:"
   ]
  },
  {
   "cell_type": "code",
   "execution_count": null,
   "id": "5c939002",
   "metadata": {},
   "outputs": [],
   "source": [
    "\"\"\"\n",
    "ADT List{\n",
    "  数据对象: <数据对象的定义>\n",
    "    D = {ai | ai 属于数据元素集合 ElementSet (i=1,2,..,n, n >=0)}\n",
    "  数据关系: <数据关系的定义>\n",
    "    R = { <ai-1, ai> | ai-1, ai 属于 D,(i=2,3,...,n) }\n",
    "  基本操作: <基本操作的定义>\n",
    "    InitList(&L);\n",
    "    ListInsert(&L,i,e);\n",
    "    DestroyList(&L);\n",
    "    ListDelete(&L,i&e);\n",
    "    ...\n",
    "} ADT List\n",
    "\"\"\""
   ]
  },
  {
   "cell_type": "markdown",
   "id": "aea455b9",
   "metadata": {},
   "source": [
    "# 基本操作"
   ]
  },
  {
   "cell_type": "markdown",
   "id": "4aea4802",
   "metadata": {},
   "source": [
    "## InitList(&L)\n",
    "- 操作结果：构造一个空的线性表 L"
   ]
  },
  {
   "cell_type": "markdown",
   "id": "78416f2f",
   "metadata": {},
   "source": [
    "## DestroyList(&L)\n",
    "- 初始条件：线性表 L 已经存在\n",
    "- 操作结果：销毁线性表 L"
   ]
  },
  {
   "cell_type": "markdown",
   "id": "a387df54",
   "metadata": {},
   "source": [
    "## ClearList(&L)\n",
    "- 初始条件：线性表 L 已经存在\n",
    "- 操作结果：将线性表 L 重置为空表"
   ]
  },
  {
   "cell_type": "markdown",
   "id": "5affac0f",
   "metadata": {},
   "source": [
    "## ListEmpty(L)\n",
    "- 初始条件：线性表 L 已经存在\n",
    "- 操作结果：若线性表 L 为空表，则返回 TRUE，否则返回 FALSE"
   ]
  },
  {
   "cell_type": "markdown",
   "id": "9aa3191c",
   "metadata": {},
   "source": [
    "## ListLength(L)\n",
    "- 初始条件：线性表 L 已经存在\n",
    "- 操作结果：返回线性表 L 中数据元素的个数"
   ]
  },
  {
   "cell_type": "markdown",
   "id": "32f43be1",
   "metadata": {},
   "source": [
    "## GetElem(L, i, &e)\n",
    "- 初始条件：线性表 L 已经存在, 1 <= i <= ListLength(L)\n",
    "- 操作结果：用 e 返回线性表 L 中第 i 个数据元素的值"
   ]
  },
  {
   "cell_type": "markdown",
   "id": "fbbf0933",
   "metadata": {},
   "source": [
    "## LocateElem(L, e, compare())\n",
    "- 初始条件：线性表 L 已经存在, compare() 是数据元素判定函数\n",
    "- 操作结果：返回 L 中第一个与 e 满足 compare() 的数据元素的位序。若不存在返回 0。"
   ]
  },
  {
   "cell_type": "markdown",
   "id": "13e733f2",
   "metadata": {},
   "source": [
    "## PriorElem(L, cur_e, &pre_e)\n",
    "- 初始条件：线性表 L 已经存在\n",
    "- 操作结果：若 cur_e 是 L 的数据元素，且不是第一个，则用 pre_e 返回它的前趋；否则操作失败，pre_e 则无意义。"
   ]
  },
  {
   "cell_type": "markdown",
   "id": "e59f852f",
   "metadata": {},
   "source": [
    "## NextElem(L, cur_e, &next_e)\n",
    "- 初始条件：线性表 L 已经存在\n",
    "- 操作结果：若 cur_e 是 L 的数据元素，且不是最后一个，则用 next_e 返回它的后继；否则操作失败，next_e 则无意义"
   ]
  },
  {
   "cell_type": "markdown",
   "id": "9467e919",
   "metadata": {},
   "source": [
    "## Insert(&L, i, e)\n",
    "- 初始条件：线性表 L 已经存在, 1 <= i <= ListLength(L) + 1\n",
    "- 操作结果：在 L 的第 i 个位置之前插入新的数据元素 e， L 的长度加一"
   ]
  },
  {
   "cell_type": "markdown",
   "id": "1398ac8e",
   "metadata": {},
   "source": [
    "```python\n",
    "# 插入元素 e 之前，长度为 n：       (a1, a2, a3, ..., an)\n",
    "# 插入元素 e 之后，长度为 n + 1：   (a1, a2, e, a3, ..., an)\n",
    "```"
   ]
  },
  {
   "cell_type": "markdown",
   "id": "bcf9a349",
   "metadata": {},
   "source": [
    "## ListDelete(&L, i, &e)\n",
    "- 初始条件：线性表 L 已经存在, 1 <= i <= ListLength(L)\n",
    "- 操作结果：删除 L 的第 i 个数据元素，并用 e 返回其值， L 的长度减一"
   ]
  },
  {
   "cell_type": "markdown",
   "id": "d52cea1c",
   "metadata": {},
   "source": [
    "```python\n",
    "# 删除第 i 位的元素之前，长度为 n：       (a1, a2, a(i - 1), ai, a(i + 1), ..., an)\n",
    "# 删除第 i 位的元素之后，长度为 n - 1：   (a1, a2, a(i - 1), a(i + 1), ..., an)\n",
    "```"
   ]
  },
  {
   "cell_type": "markdown",
   "id": "6ca3dd7f",
   "metadata": {},
   "source": [
    "## Traverse(&L, visited())\n",
    "- 初始条件：线性表 L 已经存在\n",
    "- 操作结果：依序对线性表中每个元素调用 visited()"
   ]
  },
  {
   "cell_type": "markdown",
   "id": "cee42227",
   "metadata": {},
   "source": [
    "# 线性表的基本操作定义总结\n",
    "- 以上所提及的运算是逻辑结构上定义的运算。只要给出这些运算的功能是”做什么“，至于”如何做“等实现细节，只有待确定了存储结构之后才考虑。\n",
    "- 后续课程中将学习线性表的存储及在存储结构上各种操作的实现\n",
    "  - 线性表的`顺序`表示和实现\n",
    "  - 线性表的`链式`表示和实现"
   ]
  }
 ],
 "metadata": {
  "kernelspec": {
   "display_name": "Python 3 (ipykernel)",
   "language": "python",
   "name": "python3"
  },
  "language_info": {
   "codemirror_mode": {
    "name": "ipython",
    "version": 3
   },
   "file_extension": ".py",
   "mimetype": "text/x-python",
   "name": "python",
   "nbconvert_exporter": "python",
   "pygments_lexer": "ipython3",
   "version": "3.11.4"
  }
 },
 "nbformat": 4,
 "nbformat_minor": 5
}
