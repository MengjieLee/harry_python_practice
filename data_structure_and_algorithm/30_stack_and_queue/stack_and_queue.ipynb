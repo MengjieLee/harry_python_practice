{
 "cells": [
  {
   "cell_type": "markdown",
   "id": "6ddc1805-1991-47a3-91d4-912feea48963",
   "metadata": {},
   "source": [
    "# 栈与队列"
   ]
  },
  {
   "cell_type": "markdown",
   "id": "bb2d0914-6b70-4ddc-b23b-df2c9f198ab4",
   "metadata": {},
   "source": [
    "# 汉诺塔游戏\n",
    "- 递归：像是一个镜子反射自己，调用自身直到满足终止条件\n",
    "  - 俄罗斯套娃，电话传话游戏\n",
    "- 递推：通过不断重复一定规则或公式，依赖于前一步的结果来得到最终结果\n",
    "  - 比如说，我们用递推来计算斐波那契数列。斐波那契数列中的每个数字是前两个数字之和。例如，1、1、2、3、5、8、13……每个数字都是前两个数字的和。"
   ]
  }
 ],
 "metadata": {
  "kernelspec": {
   "display_name": "Python 3 (ipykernel)",
   "language": "python",
   "name": "python3"
  },
  "language_info": {
   "codemirror_mode": {
    "name": "ipython",
    "version": 3
   },
   "file_extension": ".py",
   "mimetype": "text/x-python",
   "name": "python",
   "nbconvert_exporter": "python",
   "pygments_lexer": "ipython3",
   "version": "3.11.4"
  }
 },
 "nbformat": 4,
 "nbformat_minor": 5
}
