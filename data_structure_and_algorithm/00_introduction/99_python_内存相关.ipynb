{
 "cells": [
  {
   "cell_type": "markdown",
   "metadata": {},
   "source": [
    "# 生成器 generator\n",
    "一种特殊的迭代器 iterator，在需要时动态生成值，实现“惰性计算”"
   ]
  },
  {
   "cell_type": "markdown",
   "metadata": {},
   "source": [
    "## 列表推导式与生成器表达式\n",
    "- 大型数据集或流数据时，生成器表达式更优，节省内存\n",
    "  - 如处理文件字节长度 sum(x for x in (len(line) for line in open(filename)))\n",
    "- 小型数据集，列表推导式更快，可一次性生成所有值"
   ]
  },
  {
   "cell_type": "code",
   "execution_count": null,
   "metadata": {},
   "outputs": [
    {
     "name": "stdout",
     "output_type": "stream",
     "text": [
      "lst_generator: [0, 0, 0, 0, 0, 0, 0, 0, 0, 0], 其类型为<class 'list'>\n",
      "generator_expression: <generator object <genexpr> at 0x10f463510>, 其类型为<class 'generator'>\n",
      "0\n",
      "0\n",
      "0\n",
      "1\n",
      "20\n",
      "6\n"
     ]
    }
   ],
   "source": [
    "## 1. 列表推导式 <class 'list'>\n",
    "lst_generator = [0 for _ in range(10)] # 10 个元素为0 的列表\n",
    "print(f'lst_generator: {lst_generator}, 其类型为{type(lst_generator)}')\n",
    "\n",
    "## 2. 生成器表达式 <class 'generator'>，与列表推导式类似，但返回的是生成器对象而不是列表\n",
    "generator_expression = (0 for _ in range(10))\n",
    "print(f'generator_expression: {generator_expression}, 其类型为{type(generator_expression)}')\n",
    "\n",
    "print(next(generator_expression))\n",
    "print(next(generator_expression))\n",
    "# 注意 next 次数不可超过 generator_expression 的长度，否则抛错 StopIteration\n",
    "\n",
    "## 3. 生成器函数的使用\n",
    "# 使用 yield 返回值，不是 return\n",
    "# 使用生成器函数会返回一个迭代器，可以使用 next() 函数获取值\n",
    "\n",
    "def my_generator():\n",
    "    for i in range(10):\n",
    "        yield i\n",
    "\n",
    "gen = my_generator()\n",
    "print(next(gen)) # 0\n",
    "print(next(gen)) # 1\n",
    "\n",
    "# 生成器双向通信：不仅可以向调用者返回值，还可以从调用者接收值（PS：进阶：还支持 throw 和 close 方法）\n",
    "def send_generator_for_plus():\n",
    "    x = yield\n",
    "    while True:\n",
    "        x = yield x + x\n",
    "\n",
    "sg = send_generator_for_plus()\n",
    "next(sg)\n",
    "print(sg.send(10))\n",
    "print(sg.send(3))\n",
    "\n",
    "\n",
    "\n"
   ]
  },
  {
   "cell_type": "markdown",
   "metadata": {},
   "source": [
    "## \\_\\_slots\\_\\_ 限制对象属性\n",
    "自定义对象的初始化，重载 \\_\\_new\\_\\_ 而不是单纯的 \\_\\_init\\_\\_，实现预分配内存空间\n",
    "- 注意，对继承的子类无效。子类中定义 slots 后，子类的实例允许的属性范围则是子类+父类的 slots。"
   ]
  },
  {
   "cell_type": "code",
   "execution_count": 13,
   "metadata": {},
   "outputs": [
    {
     "name": "stdout",
     "output_type": "stream",
     "text": [
      "p size: 56, h size: 40, cut down 30.0% memory\n"
     ]
    }
   ],
   "source": [
    "import sys\n",
    "\n",
    "class People:\n",
    "    def __init__(self, name):\n",
    "        self.name = name\n",
    "\n",
    "class Human:\n",
    "    __slots__ = [\"name\"]\n",
    "\n",
    "    def __init__(self, name):\n",
    "        self.name = name\n",
    "\n",
    "p = People('mj')\n",
    "h = Human('hello world mj')\n",
    "\n",
    "p_size = sys.getsizeof(p)\n",
    "h_size = sys.getsizeof(h)\n",
    "\n",
    "print(f'p size: {p_size}, h size: {h_size}, cut down {round((p_size - h_size)/p_size, 1) * 100}% memory')\n"
   ]
  },
  {
   "cell_type": "markdown",
   "metadata": {},
   "source": [
    "# Python 管理内存\n",
    "https://docs.python.org/zh-tw/3.11/library/tracemalloc.html\n",
    "- objgraph\n",
    "- memory_profiler\n",
    "- tracemalloc"
   ]
  },
  {
   "cell_type": "markdown",
   "metadata": {},
   "source": [
    "## tracemalloc\n",
    "tracemalloc 模块是一个用于对 python 已申请的内存快进行 debug 的工具。它能以供一下信息：\n",
    "- 回溯对象分配内存的位置\n",
    "- 按文件、行统计 python 的内存块分配情况：内存块总大小、数量以及块平均大小\n",
    "- 对比两个内存快照的差异，以便排查内存泄露"
   ]
  },
  {
   "cell_type": "markdown",
   "metadata": {},
   "source": [
    "### 显示前 10 项"
   ]
  },
  {
   "cell_type": "code",
   "execution_count": 1,
   "metadata": {},
   "outputs": [
    {
     "name": "stdout",
     "output_type": "stream",
     "text": [
      "hello world\n",
      "[Top 10 malloc]\n",
      "/var/folders/wy/sv7xp55526xfh1ky9r2fcyy40000gn/T/ipykernel_28679/1615604996.py:4: size=388 KiB, count=9744, average=41 B\n",
      "/Library/Frameworks/Python.framework/Versions/3.11/lib/python3.11/site-packages/ipykernel/iostream.py:684: size=1122 B, count=7, average=160 B\n",
      "/Library/Frameworks/Python.framework/Versions/3.11/lib/python3.11/site-packages/traitlets/traitlets.py:652: size=768 B, count=1, average=768 B\n",
      "/Library/Frameworks/Python.framework/Versions/3.11/lib/python3.11/codeop.py:118: size=669 B, count=8, average=84 B\n",
      "/Library/Frameworks/Python.framework/Versions/3.11/lib/python3.11/site-packages/IPython/core/interactiveshell.py:3517: size=304 B, count=1, average=304 B\n",
      "/Library/Frameworks/Python.framework/Versions/3.11/lib/python3.11/threading.py:313: size=176 B, count=2, average=88 B\n",
      "/Library/Frameworks/Python.framework/Versions/3.11/lib/python3.11/site-packages/ipykernel/iostream.py:587: size=152 B, count=1, average=152 B\n",
      "/Library/Frameworks/Python.framework/Versions/3.11/lib/python3.11/site-packages/IPython/core/interactiveshell.py:3577: size=152 B, count=1, average=152 B\n",
      "/Library/Frameworks/Python.framework/Versions/3.11/lib/python3.11/site-packages/traitlets/traitlets.py:731: size=147 B, count=2, average=74 B\n",
      "/Library/Frameworks/Python.framework/Versions/3.11/lib/python3.11/site-packages/traitlets/traitlets.py:1514: size=120 B, count=1, average=120 B\n"
     ]
    }
   ],
   "source": [
    "import tracemalloc\n",
    "\n",
    "tracemalloc.start()\n",
    "a = [i for i in range(10000)]\n",
    "print('hello world')\n",
    "snapshot = tracemalloc.take_snapshot()\n",
    "top_stats = snapshot.statistics('lineno')\n",
    "\n",
    "print('[Top 10 malloc]')\n",
    "for stat in top_stats[:10]:\n",
    "    print(stat)"
   ]
  },
  {
   "cell_type": "markdown",
   "metadata": {},
   "source": [
    "### 计算差异\n",
    "获取两个快照并显示差异"
   ]
  },
  {
   "cell_type": "code",
   "execution_count": 2,
   "metadata": {},
   "outputs": [
    {
     "name": "stdout",
     "output_type": "stream",
     "text": [
      "hello world\n",
      "[Top 10 malloc]\n",
      "/Library/Frameworks/Python.framework/Versions/3.11/lib/python3.11/codeop.py:118: size=1651 B (+430 B), count=22 (+5), average=75 B\n",
      "/var/folders/wy/sv7xp55526xfh1ky9r2fcyy40000gn/T/ipykernel_28679/796183124.py:7: size=400 B (+400 B), count=3 (+3), average=133 B\n",
      "/Library/Frameworks/Python.framework/Versions/3.11/lib/python3.11/tracemalloc.py:560: size=632 B (+312 B), count=4 (+2), average=158 B\n",
      "/Library/Frameworks/Python.framework/Versions/3.11/lib/python3.11/tracemalloc.py:423: size=632 B (+312 B), count=4 (+2), average=158 B\n",
      "/Library/Frameworks/Python.framework/Versions/3.11/lib/python3.11/tracemalloc.py:558: size=240 B (+240 B), count=4 (+4), average=60 B\n",
      "/Library/Frameworks/Python.framework/Versions/3.11/lib/python3.11/asyncio/base_events.py:781: size=288 B (-72 B), count=3 (-1), average=96 B\n",
      "/Library/Frameworks/Python.framework/Versions/3.11/lib/python3.11/site-packages/IPython/core/history.py:837: size=0 B (-72 B), count=0 (-1)\n",
      "/Library/Frameworks/Python.framework/Versions/3.11/lib/python3.11/asyncio/selector_events.py:139: size=0 B (-48 B), count=0 (-1)\n",
      "/Library/Frameworks/Python.framework/Versions/3.11/lib/python3.11/site-packages/IPython/core/compilerop.py:86: size=15.1 KiB (+0 B), count=149 (+0), average=104 B\n",
      "/Library/Frameworks/Python.framework/Versions/3.11/lib/python3.11/json/decoder.py:353: size=2056 B (+0 B), count=22 (+0), average=93 B\n"
     ]
    }
   ],
   "source": [
    "import tracemalloc\n",
    "\n",
    "tracemalloc.start()\n",
    "a = [i for i in range(5)]\n",
    "print('hello world')\n",
    "snapshot1 = tracemalloc.take_snapshot()\n",
    "b = (i for i in range(2**32))\n",
    "snapshot2 = tracemalloc.take_snapshot()\n",
    "\n",
    "top_stats = snapshot2.compare_to(snapshot1, 'lineno')\n",
    "\n",
    "print('[Top 10 malloc]')\n",
    "for stat in top_stats[:10]:\n",
    "    print(stat)"
   ]
  },
  {
   "cell_type": "markdown",
   "metadata": {},
   "source": [
    "### 获取一个内存块的溯源 code\n",
    "一段找出程序中最大内存块溯源的代码"
   ]
  }
 ],
 "metadata": {
  "kernelspec": {
   "display_name": "Python 3",
   "language": "python",
   "name": "python3"
  },
  "language_info": {
   "codemirror_mode": {
    "name": "ipython",
    "version": 3
   },
   "file_extension": ".py",
   "mimetype": "text/x-python",
   "name": "python",
   "nbconvert_exporter": "python",
   "pygments_lexer": "ipython3",
   "version": "3.11.4"
  }
 },
 "nbformat": 4,
 "nbformat_minor": 2
}
