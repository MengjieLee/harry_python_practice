{
 "cells": [
  {
   "cell_type": "markdown",
   "metadata": {},
   "source": [
    "# 生成器 generator\n",
    "一种特殊的迭代器 iterator，在需要时动态生成值，实现“惰性计算”"
   ]
  },
  {
   "cell_type": "markdown",
   "metadata": {},
   "source": [
    "## 列表推导式与生成器表达式\n",
    "- 大型数据集或流数据时，生成器表达式更优，节省内存\n",
    "  - 如处理文件字节长度 sum(x for x in (len(line) for line in open(filename)))\n",
    "- 小型数据集，列表推导式更快，可一次性生成所有值"
   ]
  },
  {
   "cell_type": "code",
   "execution_count": null,
   "metadata": {},
   "outputs": [
    {
     "name": "stdout",
     "output_type": "stream",
     "text": [
      "lst_generator: [0, 0, 0, 0, 0, 0, 0, 0, 0, 0], 其类型为<class 'list'>\n",
      "generator_expression: <generator object <genexpr> at 0x10f463510>, 其类型为<class 'generator'>\n",
      "0\n",
      "0\n",
      "0\n",
      "1\n",
      "20\n",
      "6\n"
     ]
    }
   ],
   "source": [
    "## 1. 列表推导式 <class 'list'>\n",
    "lst_generator = [0 for _ in range(10)] # 10 个元素为0 的列表\n",
    "print(f'lst_generator: {lst_generator}, 其类型为{type(lst_generator)}')\n",
    "\n",
    "## 2. 生成器表达式 <class 'generator'>，与列表推导式类似，但返回的是生成器对象而不是列表\n",
    "generator_expression = (0 for _ in range(10))\n",
    "print(f'generator_expression: {generator_expression}, 其类型为{type(generator_expression)}')\n",
    "\n",
    "print(next(generator_expression))\n",
    "print(next(generator_expression))\n",
    "# 注意 next 次数不可超过 generator_expression 的长度，否则抛错 StopIteration\n",
    "\n",
    "## 3. 生成器函数的使用\n",
    "# 使用 yield 返回值，不是 return\n",
    "# 使用生成器函数会返回一个迭代器，可以使用 next() 函数获取值\n",
    "\n",
    "def my_generator():\n",
    "    for i in range(10):\n",
    "        yield i\n",
    "\n",
    "gen = my_generator()\n",
    "print(next(gen)) # 0\n",
    "print(next(gen)) # 1\n",
    "\n",
    "# 生成器双向通信：不仅可以向调用者返回值，还可以从调用者接收值（PS：进阶：还支持 throw 和 close 方法）\n",
    "def send_generator_for_plus():\n",
    "    x = yield\n",
    "    while True:\n",
    "        x = yield x + x\n",
    "\n",
    "sg = send_generator_for_plus()\n",
    "next(sg)\n",
    "print(sg.send(10))\n",
    "print(sg.send(3))\n",
    "\n",
    "\n",
    "\n"
   ]
  },
  {
   "cell_type": "markdown",
   "metadata": {},
   "source": [
    "# Python 管理内存\n",
    "- objgraph\n",
    "- memory_profiler\n",
    "- tracemalloc"
   ]
  }
 ],
 "metadata": {
  "kernelspec": {
   "display_name": "Python 3",
   "language": "python",
   "name": "python3"
  },
  "language_info": {
   "codemirror_mode": {
    "name": "ipython",
    "version": 3
   },
   "file_extension": ".py",
   "mimetype": "text/x-python",
   "name": "python",
   "nbconvert_exporter": "python",
   "pygments_lexer": "ipython3",
   "version": "3.11.4"
  }
 },
 "nbformat": 4,
 "nbformat_minor": 2
}
