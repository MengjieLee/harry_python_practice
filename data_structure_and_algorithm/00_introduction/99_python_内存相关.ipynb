{
 "cells": [
  {
   "cell_type": "markdown",
   "metadata": {},
   "source": [
    "# 生成器 generator\n",
    "一种特殊的迭代器 iterator，在需要时动态生成值，实现“惰性计算”"
   ]
  },
  {
   "cell_type": "markdown",
   "metadata": {},
   "source": [
    "## 列表推导式与生成器表达式\n",
    "- 大型数据集或流数据时，生成器表达式更优，节省内存\n",
    "  - 如处理文件字节长度 sum(x for x in (len(line) for line in open(filename)))\n",
    "- 小型数据集，列表推导式更快，可一次性生成所有值"
   ]
  },
  {
   "cell_type": "code",
   "execution_count": null,
   "metadata": {},
   "outputs": [
    {
     "name": "stdout",
     "output_type": "stream",
     "text": [
      "lst_generator: [0, 0, 0, 0, 0, 0, 0, 0, 0, 0], 其类型为<class 'list'>\n",
      "generator_expression: <generator object <genexpr> at 0x10f463510>, 其类型为<class 'generator'>\n",
      "0\n",
      "0\n",
      "0\n",
      "1\n",
      "20\n",
      "6\n"
     ]
    }
   ],
   "source": [
    "## 1. 列表推导式 <class 'list'>\n",
    "lst_generator = [0 for _ in range(10)] # 10 个元素为0 的列表\n",
    "print(f'lst_generator: {lst_generator}, 其类型为{type(lst_generator)}')\n",
    "\n",
    "## 2. 生成器表达式 <class 'generator'>，与列表推导式类似，但返回的是生成器对象而不是列表\n",
    "generator_expression = (0 for _ in range(10))\n",
    "print(f'generator_expression: {generator_expression}, 其类型为{type(generator_expression)}')\n",
    "\n",
    "print(next(generator_expression))\n",
    "print(next(generator_expression))\n",
    "# 注意 next 次数不可超过 generator_expression 的长度，否则抛错 StopIteration\n",
    "\n",
    "## 3. 生成器函数的使用\n",
    "# 使用 yield 返回值，不是 return\n",
    "# 使用生成器函数会返回一个迭代器，可以使用 next() 函数获取值\n",
    "\n",
    "def my_generator():\n",
    "    for i in range(10):\n",
    "        yield i\n",
    "\n",
    "gen = my_generator()\n",
    "print(next(gen)) # 0\n",
    "print(next(gen)) # 1\n",
    "\n",
    "# 生成器双向通信：不仅可以向调用者返回值，还可以从调用者接收值（PS：进阶：还支持 throw 和 close 方法）\n",
    "def send_generator_for_plus():\n",
    "    x = yield\n",
    "    while True:\n",
    "        x = yield x + x\n",
    "\n",
    "sg = send_generator_for_plus()\n",
    "next(sg)\n",
    "print(sg.send(10))\n",
    "print(sg.send(3))\n",
    "\n",
    "\n",
    "\n"
   ]
  },
  {
   "cell_type": "markdown",
   "metadata": {},
   "source": [
    "# Python 管理内存\n",
    "https://docs.python.org/zh-tw/3.11/library/tracemalloc.html\n",
    "- objgraph\n",
    "- memory_profiler\n",
    "- tracemalloc"
   ]
  },
  {
   "cell_type": "markdown",
   "metadata": {},
   "source": [
    "## tracemalloc\n",
    "tracemalloc 模块是一个用于对 python 已申请的内存快进行 debug 的工具。它能以供一下信息：\n",
    "- 回溯对象分配内存的位置\n",
    "- 按文件、行统计 python 的内存块分配情况：内存块总大小、数量以及块平均大小\n",
    "- 对比两个内存快照的差异，以便排查内存泄露"
   ]
  },
  {
   "cell_type": "markdown",
   "metadata": {},
   "source": [
    "### 显示前 10 项"
   ]
  },
  {
   "cell_type": "code",
   "execution_count": 18,
   "metadata": {},
   "outputs": [
    {
     "name": "stdout",
     "output_type": "stream",
     "text": [
      "hello world\n",
      "[Top 10 malloc]\n",
      "/var/folders/wy/sv7xp55526xfh1ky9r2fcyy40000gn/T/ipykernel_27539/1615604996.py:4: size=388 KiB, count=9745, average=41 B\n",
      "/Library/Frameworks/Python.framework/Versions/3.11/lib/python3.11/site-packages/IPython/core/compilerop.py:174: size=38.7 KiB, count=342, average=116 B\n",
      "/Library/Frameworks/Python.framework/Versions/3.11/lib/python3.11/tracemalloc.py:558: size=22.1 KiB, count=405, average=56 B\n",
      "/Library/Frameworks/Python.framework/Versions/3.11/lib/python3.11/tracemalloc.py:115: size=17.7 KiB, count=226, average=80 B\n",
      "/Library/Frameworks/Python.framework/Versions/3.11/lib/python3.11/tracemalloc.py:193: size=15.1 KiB, count=323, average=48 B\n",
      "/Library/Frameworks/Python.framework/Versions/3.11/lib/python3.11/tracemalloc.py:125: size=13.9 KiB, count=198, average=72 B\n",
      "/Library/Frameworks/Python.framework/Versions/3.11/lib/python3.11/site-packages/IPython/core/compilerop.py:86: size=13.8 KiB, count=158, average=89 B\n",
      "/Library/Frameworks/Python.framework/Versions/3.11/lib/python3.11/site-packages/pygments/formatters/html.py:506: size=12.9 KiB, count=148, average=89 B\n",
      "/Library/Frameworks/Python.framework/Versions/3.11/lib/python3.11/tracemalloc.py:498: size=10.8 KiB, count=230, average=48 B\n",
      "/Library/Frameworks/Python.framework/Versions/3.11/lib/python3.11/site-packages/zmq/sugar/attrsettr.py:45: size=9020 B, count=164, average=55 B\n"
     ]
    }
   ],
   "source": [
    "import tracemalloc\n",
    "\n",
    "tracemalloc.start()\n",
    "a = [i for i in range(10000)]\n",
    "print('hello world')\n",
    "snapshot = tracemalloc.take_snapshot()\n",
    "top_stats = snapshot.statistics('lineno')\n",
    "\n",
    "print('[Top 10 malloc]')\n",
    "for stat in top_stats[:10]:\n",
    "    print(stat)"
   ]
  },
  {
   "cell_type": "markdown",
   "metadata": {},
   "source": [
    "### 计算差异\n",
    "获取两个快照并显示差异"
   ]
  },
  {
   "cell_type": "code",
   "execution_count": 42,
   "metadata": {},
   "outputs": [
    {
     "name": "stdout",
     "output_type": "stream",
     "text": [
      "hello world\n",
      "[Top 10 malloc]\n",
      "/Library/Frameworks/Python.framework/Versions/3.11/lib/python3.11/tracemalloc.py:558: size=73.2 KiB (+27.9 KiB), count=1416 (+523), average=53 B\n",
      "/Library/Frameworks/Python.framework/Versions/3.11/lib/python3.11/tokenize.py:532: size=0 B (-8568 B), count=0 (-153)\n",
      "/Library/Frameworks/Python.framework/Versions/3.11/lib/python3.11/site-packages/pygments/regexopt.py:77: size=952 B (-8064 B), count=17 (-144), average=56 B\n",
      "<frozen genericpath>:80: size=0 B (-6104 B), count=0 (-109)\n",
      "/Library/Frameworks/Python.framework/Versions/3.11/lib/python3.11/tracemalloc.py:193: size=2208 B (-4128 B), count=46 (-86), average=48 B\n",
      "/Library/Frameworks/Python.framework/Versions/3.11/lib/python3.11/codeop.py:118: size=3398 B (+502 B), count=47 (+6), average=72 B\n",
      "/var/folders/wy/sv7xp55526xfh1ky9r2fcyy40000gn/T/ipykernel_27539/796183124.py:7: size=400 B (+400 B), count=3 (+3), average=133 B\n",
      "<frozen genericpath>:77: size=41.1 KiB (-352 B), count=388 (-6), average=109 B\n",
      "/Library/Frameworks/Python.framework/Versions/3.11/lib/python3.11/tokenize.py:508: size=0 B (-224 B), count=0 (-4)\n",
      "/Library/Frameworks/Python.framework/Versions/3.11/lib/python3.11/site-packages/stack_data/core.py:115: size=0 B (-168 B), count=0 (-3)\n"
     ]
    }
   ],
   "source": [
    "import tracemalloc\n",
    "\n",
    "tracemalloc.start()\n",
    "a = [i for i in range(5)]\n",
    "print('hello world')\n",
    "snapshot1 = tracemalloc.take_snapshot()\n",
    "b = (i for i in range(2**32))\n",
    "snapshot2 = tracemalloc.take_snapshot()\n",
    "\n",
    "top_stats = snapshot2.compare_to(snapshot1, 'lineno')\n",
    "\n",
    "print('[Top 10 malloc]')\n",
    "for stat in top_stats[:10]:\n",
    "    print(stat)"
   ]
  },
  {
   "cell_type": "markdown",
   "metadata": {},
   "source": [
    "### 获取一个内存块的溯源 code\n",
    "一段找出程序中最大内存块溯源的代码"
   ]
  }
 ],
 "metadata": {
  "kernelspec": {
   "display_name": "Python 3",
   "language": "python",
   "name": "python3"
  },
  "language_info": {
   "codemirror_mode": {
    "name": "ipython",
    "version": 3
   },
   "file_extension": ".py",
   "mimetype": "text/x-python",
   "name": "python",
   "nbconvert_exporter": "python",
   "pygments_lexer": "ipython3",
   "version": "3.11.4"
  }
 },
 "nbformat": 4,
 "nbformat_minor": 2
}
