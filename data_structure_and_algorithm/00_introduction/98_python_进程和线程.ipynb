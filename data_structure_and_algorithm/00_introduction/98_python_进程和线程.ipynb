{
 "cells": [
  {
   "cell_type": "markdown",
   "metadata": {},
   "source": [
    "# 进程和线程"
   ]
  },
  {
   "cell_type": "markdown",
   "metadata": {},
   "source": [
    "## 多进程\n",
    "- Unix / Linux 下，fock() 实现多进程\n",
    "- 由于 windows 无 fock(), 所以若要实现跨平台多进程，可以使用 multiprocessing 模块\n",
    "- 进程间通信通过 Queue, Pipes 等实现"
   ]
  },
  {
   "cell_type": "markdown",
   "metadata": {},
   "source": [
    "### 多进程 + 池"
   ]
  },
  {
   "cell_type": "code",
   "execution_count": null,
   "metadata": {},
   "outputs": [
    {
     "name": "stdout",
     "output_type": "stream",
     "text": [
      "Main process 32825\n",
      "Waiting for all subprocesses done ...\n",
      "Run task 0(pid:33700) ...\n",
      "Run task 1(pid:33701) ...\n",
      "Run task 2(pid:33703) ...\n",
      "Run task 3(pid:33702) ...\n",
      "Finish 3(pid:33702) task with 0.1 ...\n",
      "Run task 4(pid:33702) ...\n",
      "Finish 2(pid:33703) task with 0.3 ...\n",
      "Run task 5(pid:33703) ...\n",
      "Finish 5(pid:33703) task with 1.0 ...\n",
      "Run task 6(pid:33703) ...\n",
      "Finish 4(pid:33702) task with 1.4 ...\n",
      "Run task 7(pid:33702) ...\n",
      "Finish 7(pid:33702) task with 0.1 ...\n",
      "Finish 1(pid:33701) task with 1.8 ...\n",
      "Finish 0(pid:33700) task with 2.3 ...\n",
      "Finish 6(pid:33703) task with 2.0 ...\n",
      "All subprocesses done\n"
     ]
    }
   ],
   "source": [
    "import os\n",
    "from python_utils import long_time_task\n",
    "from multiprocessing import Pool\n",
    "\n",
    "if __name__ == '__main__':\n",
    "    print(f'Main process {os.getpid()}')\n",
    "    p = Pool(4)\n",
    "    for i in range(8):\n",
    "        p.apply_async(long_time_task, args=(i,))\n",
    "    print('Waiting for all subprocesses done ...')\n",
    "    p.close()\n",
    "    p.join()\n",
    "    print('All subprocesses done')\n"
   ]
  },
  {
   "cell_type": "markdown",
   "metadata": {},
   "source": [
    "### 子进程 subprocess\n",
    "很多时候，子进程并不一定是自身，而是一个外部进程，如 subprocess 实现 shell 调用"
   ]
  },
  {
   "cell_type": "code",
   "execution_count": 4,
   "metadata": {},
   "outputs": [
    {
     "name": "stdout",
     "output_type": "stream",
     "text": [
      "$ nslookup www.python.org\n",
      "Server:\t\t116.228.111.118\n",
      "Address:\t116.228.111.118#53\n",
      "\n",
      "Non-authoritative answer:\n",
      "www.python.org\tcanonical name = dualstack.python.map.fastly.net.\n",
      "Name:\tdualstack.python.map.fastly.net\n",
      "Address: 151.101.76.223\n",
      "\n",
      "Exit code:0\n"
     ]
    }
   ],
   "source": [
    "import subprocess\n",
    "\n",
    "print('$ nslookup www.python.org')\n",
    "r = subprocess.call(['nslookup', 'www.python.org'])\n",
    "print(f'Exit code:{r}')"
   ]
  },
  {
   "cell_type": "markdown",
   "metadata": {},
   "source": [
    "### 子进程输入传值 communicate"
   ]
  },
  {
   "cell_type": "code",
   "execution_count": 5,
   "metadata": {},
   "outputs": [
    {
     "name": "stdout",
     "output_type": "stream",
     "text": [
      "$ nslookup\n",
      "Server:\t\t116.228.111.118\n",
      "Address:\t116.228.111.118#53\n",
      "\n",
      "Non-authoritative answer:\n",
      "python.org\tmail exchanger = 50 mail.python.org.\n",
      "\n",
      "Authoritative answers can be found from:\n",
      "\n",
      "\n",
      "Exit code:0\n"
     ]
    }
   ],
   "source": [
    "import subprocess\n",
    "\n",
    "\n",
    "\"\"\"\n",
    "Last login: Wed Nov 20 18:46:35 on ttys000\n",
    "limengjie@limengjiedeMacBook-Pro ~ % nslookup\n",
    "> set q=mx\n",
    "> python.org\n",
    "Server:\t\t116.228.111.118\n",
    "Address:\t116.228.111.118#53\n",
    "\n",
    "Non-authoritative answer:\n",
    "python.org\tmail exchanger = 50 mail.python.org.\n",
    "\n",
    "Authoritative answers can be found from:\n",
    "> exit\n",
    "\"\"\"\n",
    "\n",
    "print('$ nslookup')\n",
    "p = subprocess.Popen(\n",
    "    ['nslookup'],\n",
    "    stdin=subprocess.PIPE,\n",
    "    stdout=subprocess.PIPE,\n",
    "    stderr=subprocess.PIPE\n",
    ")\n",
    "output, err = p.communicate(b'set q=mx\\npython.org\\nexit\\n')\n",
    "print(output.decode('utf-8'))\n",
    "print(f'Exit code:{p.returncode}')"
   ]
  },
  {
   "cell_type": "markdown",
   "metadata": {},
   "source": [
    "### 进程间通信\n",
    "Queue 实现进程间交换数据"
   ]
  },
  {
   "cell_type": "code",
   "execution_count": null,
   "metadata": {},
   "outputs": [
    {
     "name": "stdout",
     "output_type": "stream",
     "text": [
      "Process 33707 to read:Process 33706 to write:\n",
      "\n",
      "Put A to queue ...\n",
      "Get A from queue\n",
      "Put B to queue ...\n",
      "Get B from queue\n",
      "Put C to queue ...\n",
      "Get C from queue\n"
     ]
    }
   ],
   "source": [
    "from python_utils import write_func, read_func\n",
    "from multiprocessing import Process, Queue\n",
    "\n",
    "\n",
    "if __name__ == '__main__':\n",
    "    q = Queue()\n",
    "    pw = Process(target=write_func, args=(q,))\n",
    "    pr = Process(target=read_func, args=(q,))\n",
    "    pw.start()\n",
    "    pr.start()\n",
    "    pw.join()\n",
    "    pr.terminate()\n",
    "\n",
    "\n",
    "\n",
    "\n"
   ]
  },
  {
   "cell_type": "markdown",
   "metadata": {},
   "source": [
    "# 多线程\n",
    "多任务，可以由多进程完成，可以由一个进程内的多线程完成。\n",
    "- threading 封装了 \\_thread 模块\n",
    "- Python 线程是真正的 Posix Thread，而不是模拟出来的线程\n",
    "- 线程是操作系统直接支持的执行单元\n",
    "- 启动一个函数传入并创建 Thread 实例，调用 start() 开始执行"
   ]
  },
  {
   "cell_type": "code",
   "execution_count": 8,
   "metadata": {},
   "outputs": [
    {
     "name": "stdout",
     "output_type": "stream",
     "text": [
      "thread MainThread is running ...\n",
      "thread LoopThread is running ...\n",
      "thread LoopThread >> 1\n",
      "thread LoopThread >> 2\n",
      "thread LoopThread >> 3\n",
      "thread LoopThread >> 4\n",
      "thread LoopThread >> 5\n",
      "thread LoopThread ended!\n",
      "thread MainThread ended!\n"
     ]
    }
   ],
   "source": [
    "import time, threading\n",
    "\n",
    "def loop():\n",
    "    print(f'thread {threading.current_thread().name} is running ...')\n",
    "    n = 0\n",
    "    while n < 5:\n",
    "        n += 1\n",
    "        print(f'thread {threading.current_thread().name} >> {n}')\n",
    "        time.sleep(2)\n",
    "    print(f'thread {threading.current_thread().name} ended!')\n",
    "\n",
    "print(f'thread {threading.current_thread().name} is running ...')\n",
    "t = threading.Thread(target=loop, name='LoopThread')\n",
    "t.start()\n",
    "t.join()\n",
    "print(f'thread {threading.current_thread().name} ended!')"
   ]
  },
  {
   "cell_type": "markdown",
   "metadata": {},
   "source": [
    "## Lock\n",
    "- 多线程所有变量共享，若同时修改一个不变量，会有风险改乱\n",
    "- 确保某段关键代码只能有一个线程从头到尾完整执行\n",
    "- 多个锁的存爱，易出现死锁\n",
    "- GIL（100条指令轮换） 导致 python 无法利用多核，不过 python 的多进程才能避免 GIL 的影响"
   ]
  },
  {
   "cell_type": "code",
   "execution_count": 9,
   "metadata": {},
   "outputs": [
    {
     "name": "stdout",
     "output_type": "stream",
     "text": [
      "0\n"
     ]
    }
   ],
   "source": [
    "import time, threading\n",
    "\n",
    "balance = 0\n",
    "lock = threading.Lock()\n",
    "\n",
    "def change_it(n):\n",
    "    global balance\n",
    "    balance = balance + n\n",
    "    balance = balance - n\n",
    "\n",
    "def run_thread(n):\n",
    "    for _ in range(1000000):\n",
    "        lock.acquire()\n",
    "        try:\n",
    "            change_it(n)\n",
    "        finally:\n",
    "            lock.release()\n",
    "\n",
    "t1 = threading.Thread(target=run_thread, args=(2**5,))\n",
    "t2 = threading.Thread(target=run_thread, args=(2**10,))\n",
    "t1.start()\n",
    "t2.start()\n",
    "t1.join()\n",
    "t2.join()\n",
    "print(balance)"
   ]
  },
  {
   "cell_type": "markdown",
   "metadata": {},
   "source": [
    "## ThreadLocal\n",
    "解决参数在一个线程中的各个功能函数之间互相传递的问题。如：为每个线程绑定一个 DB connection,http request, useraccount/RBAC\n"
   ]
  },
  {
   "cell_type": "code",
   "execution_count": 10,
   "metadata": {},
   "outputs": [
    {
     "name": "stdout",
     "output_type": "stream",
     "text": [
      "Hello Alice in Thread-A\n",
      "Hello Bob in Thread-B\n"
     ]
    }
   ],
   "source": [
    "import threading\n",
    "\n",
    "local_school = threading.local()\n",
    "\n",
    "def process_thread(name):\n",
    "    local_school.student = name\n",
    "    process_student()\n",
    "\n",
    "def process_student():\n",
    "    std = local_school.student\n",
    "    print(f'Hello {std} in {threading.current_thread().name}')\n",
    "\n",
    "t1 = threading.Thread(target=process_thread, args=('Alice',), name='Thread-A')\n",
    "t2 = threading.Thread(target=process_thread, args=('Bob',), name='Thread-B')\n",
    "t1.start()\n",
    "t2.start()\n",
    "t1.join()\n",
    "t2.join()\n"
   ]
  }
 ],
 "metadata": {
  "kernelspec": {
   "display_name": "Python 3",
   "language": "python",
   "name": "python3"
  },
  "language_info": {
   "codemirror_mode": {
    "name": "ipython",
    "version": 3
   },
   "file_extension": ".py",
   "mimetype": "text/x-python",
   "name": "python",
   "nbconvert_exporter": "python",
   "pygments_lexer": "ipython3",
   "version": "3.11.4"
  }
 },
 "nbformat": 4,
 "nbformat_minor": 2
}
