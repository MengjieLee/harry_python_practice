{
 "cells": [
  {
   "cell_type": "markdown",
   "metadata": {},
   "source": [
    "# 进程和线程"
   ]
  },
  {
   "cell_type": "markdown",
   "metadata": {},
   "source": [
    "## 进程"
   ]
  },
  {
   "cell_type": "markdown",
   "metadata": {},
   "source": [
    "### 多进程 + 池"
   ]
  },
  {
   "cell_type": "code",
   "execution_count": 1,
   "metadata": {},
   "outputs": [
    {
     "name": "stdout",
     "output_type": "stream",
     "text": [
      "Main process 29852\n",
      "Waiting for all subprocesses done ...\n",
      "Run task 0(pid:29918) ...\n",
      "Run task 1(pid:29919) ...\n",
      "Run task 2(pid:29920) ...\n",
      "Run task 3(pid:29921) ...\n",
      "Finish 0(pid:29918) task with 1.7 ...\n",
      "Run task 4(pid:29918) ...\n",
      "Finish 2(pid:29920) task with 2.5 ...\n",
      "Run task 5(pid:29920) ...\n",
      "Finish 1(pid:29919) task with 2.5 ...\n",
      "Run task 6(pid:29919) ...\n",
      "Finish 3(pid:29921) task with 2.6 ...\n",
      "Run task 7(pid:29921) ...\n",
      "Finish 5(pid:29920) task with 0.5 ...\n",
      "Finish 4(pid:29918) task with 1.5 ...\n",
      "Finish 6(pid:29919) task with 1.0 ...\n",
      "Finish 7(pid:29921) task with 1.2 ...\n",
      "All subprocesses done\n"
     ]
    }
   ],
   "source": [
    "import os\n",
    "from multi_processing import long_time_task\n",
    "from multiprocessing import Pool\n",
    "\n",
    "if __name__ == '__main__':\n",
    "    print(f'Main process {os.getpid()}')\n",
    "    p = Pool(4)\n",
    "    for i in range(8):\n",
    "        p.apply_async(long_time_task, args=(i,))\n",
    "    print('Waiting for all subprocesses done ...')\n",
    "    p.close()\n",
    "    p.join()\n",
    "    print('All subprocesses done')\n"
   ]
  },
  {
   "cell_type": "markdown",
   "metadata": {},
   "source": [
    "### 子进程 subprocess\n",
    "很多时候，子进程并不一定是自身，而是一个外部进程，如 subprocess 实现 shell 调用"
   ]
  },
  {
   "cell_type": "code",
   "execution_count": 2,
   "metadata": {},
   "outputs": [
    {
     "name": "stdout",
     "output_type": "stream",
     "text": [
      "$ nslookup www.python.org\n",
      "Server:\t\t116.228.111.118\n",
      "Address:\t116.228.111.118#53\n",
      "\n",
      "Non-authoritative answer:\n",
      "www.python.org\tcanonical name = dualstack.python.map.fastly.net.\n",
      "Name:\tdualstack.python.map.fastly.net\n",
      "Address: 151.101.76.223\n",
      "\n",
      "Exit code:0\n"
     ]
    }
   ],
   "source": [
    "import subprocess\n",
    "\n",
    "print('$ nslookup www.python.org')\n",
    "r = subprocess.call(['nslookup', 'www.python.org'])\n",
    "print(f'Exit code:{r}')"
   ]
  },
  {
   "cell_type": "markdown",
   "metadata": {},
   "source": [
    "### 子进程输入传值 communicate"
   ]
  },
  {
   "cell_type": "code",
   "execution_count": 4,
   "metadata": {},
   "outputs": [
    {
     "name": "stdout",
     "output_type": "stream",
     "text": [
      "$ nslookup\n",
      "Server:\t\t116.228.111.118\n",
      "Address:\t116.228.111.118#53\n",
      "\n",
      "Non-authoritative answer:\n",
      "python.org\tmail exchanger = 50 mail.python.org.\n",
      "\n",
      "Authoritative answers can be found from:\n",
      "\n",
      "\n",
      "Exit code:0\n"
     ]
    }
   ],
   "source": [
    "import subprocess\n",
    "\n",
    "\n",
    "\"\"\"\n",
    "Last login: Wed Nov 20 18:46:35 on ttys000\n",
    "limengjie@limengjiedeMacBook-Pro ~ % nslookup\n",
    "> set q=mx\n",
    "> python.org\n",
    "Server:\t\t116.228.111.118\n",
    "Address:\t116.228.111.118#53\n",
    "\n",
    "Non-authoritative answer:\n",
    "python.org\tmail exchanger = 50 mail.python.org.\n",
    "\n",
    "Authoritative answers can be found from:\n",
    "> exit\n",
    "\"\"\"\n",
    "\n",
    "print('$ nslookup')\n",
    "p = subprocess.Popen(\n",
    "    ['nslookup'],\n",
    "    stdin=subprocess.PIPE,\n",
    "    stdout=subprocess.PIPE,\n",
    "    stderr=subprocess.PIPE\n",
    ")\n",
    "output, err = p.communicate(b'set q=mx\\npython.org\\nexit\\n')\n",
    "print(output.decode('utf-8'))\n",
    "print(f'Exit code:{p.returncode}')"
   ]
  },
  {
   "cell_type": "markdown",
   "metadata": {},
   "source": [
    "### 进程间通信\n",
    "Queue 实现进程间交换数据"
   ]
  },
  {
   "cell_type": "code",
   "execution_count": null,
   "metadata": {},
   "outputs": [],
   "source": [
    "from multiprocessing import Process, Queue\n",
    "import os, time, random\n",
    "\n",
    "# TODO"
   ]
  }
 ],
 "metadata": {
  "kernelspec": {
   "display_name": "Python 3",
   "language": "python",
   "name": "python3"
  },
  "language_info": {
   "codemirror_mode": {
    "name": "ipython",
    "version": 3
   },
   "file_extension": ".py",
   "mimetype": "text/x-python",
   "name": "python",
   "nbconvert_exporter": "python",
   "pygments_lexer": "ipython3",
   "version": "3.11.4"
  }
 },
 "nbformat": 4,
 "nbformat_minor": 2
}
