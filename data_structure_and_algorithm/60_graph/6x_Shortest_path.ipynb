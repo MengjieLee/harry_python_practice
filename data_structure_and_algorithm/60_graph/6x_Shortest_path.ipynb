{
 "cells": [
  {
   "cell_type": "markdown",
   "id": "45583641-5812-40c3-9902-effef91c9f4e",
   "metadata": {},
   "source": [
    "# Dijkstra(戴斯彻)算法\n",
    "- 从某一个顶点到其他顶点的最短路径\n",
    "- 结点边是有各自不同的权重，但都必须是正数。注意如果有复数，则需要使用**`Bellman-Ford`**算法"
   ]
  },
  {
   "cell_type": "markdown",
   "id": "a71b0862-14a3-4f83-ba39-78b68e249700",
   "metadata": {},
   "source": [
    "# Floyd(弗洛伊德)算法\n",
    "- 取`任意两点`之间的最短距离"
   ]
  }
 ],
 "metadata": {
  "kernelspec": {
   "display_name": "Python 3 (ipykernel)",
   "language": "python",
   "name": "python3"
  },
  "language_info": {
   "codemirror_mode": {
    "name": "ipython",
    "version": 3
   },
   "file_extension": ".py",
   "mimetype": "text/x-python",
   "name": "python",
   "nbconvert_exporter": "python",
   "pygments_lexer": "ipython3",
   "version": "3.11.4"
  }
 },
 "nbformat": 4,
 "nbformat_minor": 5
}
